{
  "nbformat": 4,
  "nbformat_minor": 0,
  "metadata": {
    "colab": {
      "provenance": [],
      "authorship_tag": "ABX9TyPcHvsIhTXX68+Cmn9zzDvC",
      "include_colab_link": true
    },
    "kernelspec": {
      "name": "python3",
      "display_name": "Python 3"
    },
    "language_info": {
      "name": "python"
    }
  },
  "cells": [
    {
      "cell_type": "markdown",
      "metadata": {
        "id": "view-in-github",
        "colab_type": "text"
      },
      "source": [
        "<a href=\"https://colab.research.google.com/github/gunashekar540/fml-lab/blob/main/Text_Normalization.ipynb\" target=\"_parent\"><img src=\"https://colab.research.google.com/assets/colab-badge.svg\" alt=\"Open In Colab\"/></a>"
      ]
    },
    {
      "cell_type": "code",
      "execution_count": 2,
      "metadata": {
        "colab": {
          "base_uri": "https://localhost:8080/"
        },
        "id": "gx5lCjJ50Z_V",
        "outputId": "8fbe5c23-cd2c-44cb-c929-8ff148f82f4f"
      },
      "outputs": [
        {
          "output_type": "stream",
          "name": "stderr",
          "text": [
            "[nltk_data] Downloading package punkt to /root/nltk_data...\n",
            "[nltk_data]   Unzipping tokenizers/punkt.zip.\n"
          ]
        },
        {
          "output_type": "execute_result",
          "data": {
            "text/plain": [
              "True"
            ]
          },
          "metadata": {},
          "execution_count": 2
        }
      ],
      "source": [
        "import nltk\n",
        "nltk.download('punkt')"
      ]
    },
    {
      "cell_type": "code",
      "source": [
        "from nltk.stem import PorterStemmer\n",
        "porter = PorterStemmer()"
      ],
      "metadata": {
        "id": "nvf4EeAz0a5m"
      },
      "execution_count": 3,
      "outputs": []
    },
    {
      "cell_type": "code",
      "source": [
        "sentence=\"Machine learning and data mining often employ the same methods and overlap significantly, but while machine learning focuses on prediction, based on known properties learned from the training data, data mining focuses on the discovery of (previously) unknown properties in the data (this is the analysis step of knowledge discovery in databases)\""
      ],
      "metadata": {
        "id": "PL7wxJN_0jRn"
      },
      "execution_count": 4,
      "outputs": []
    },
    {
      "cell_type": "code",
      "source": [
        "from nltk.tokenize import sent_tokenize, word_tokenize"
      ],
      "metadata": {
        "id": "fbz-jA9A0l4W"
      },
      "execution_count": 5,
      "outputs": []
    },
    {
      "cell_type": "code",
      "source": [
        "def stemSentence(sentence):\n",
        " token_words=word_tokenize(sentence)\n",
        " print(token_words)\n",
        " stem_sentence=[]\n",
        " for word in token_words:\n",
        "  stem_sentence.append(porter.stem(word))\n",
        "  stem_sentence.append(\" \")\n",
        " return \"\".join(stem_sentence)"
      ],
      "metadata": {
        "id": "GlPQPVwU0pHG"
      },
      "execution_count": 6,
      "outputs": []
    },
    {
      "cell_type": "code",
      "source": [
        "x=stemSentence(sentence)\n",
        "print(\"Sentence after stemming :\", x)"
      ],
      "metadata": {
        "colab": {
          "base_uri": "https://localhost:8080/"
        },
        "id": "-GnK9UoB0uZ3",
        "outputId": "077fac8c-a52d-41df-b09f-2f78822a2c99"
      },
      "execution_count": 8,
      "outputs": [
        {
          "output_type": "stream",
          "name": "stdout",
          "text": [
            "['Machine', 'learning', 'and', 'data', 'mining', 'often', 'employ', 'the', 'same', 'methods', 'and', 'overlap', 'significantly', ',', 'but', 'while', 'machine', 'learning', 'focuses', 'on', 'prediction', ',', 'based', 'on', 'known', 'properties', 'learned', 'from', 'the', 'training', 'data', ',', 'data', 'mining', 'focuses', 'on', 'the', 'discovery', 'of', '(', 'previously', ')', 'unknown', 'properties', 'in', 'the', 'data', '(', 'this', 'is', 'the', 'analysis', 'step', 'of', 'knowledge', 'discovery', 'in', 'databases', ')']\n",
            "Sentence after stemming : machin learn and data mine often employ the same method and overlap significantli , but while machin learn focus on predict , base on known properti learn from the train data , data mine focus on the discoveri of ( previous ) unknown properti in the data ( thi is the analysi step of knowledg discoveri in databas ) \n"
          ]
        }
      ]
    }
  ]
}